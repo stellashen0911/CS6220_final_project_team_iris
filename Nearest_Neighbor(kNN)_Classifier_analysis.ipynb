{
 "cells": [
  {
   "cell_type": "code",
   "execution_count": 5,
   "id": "1ff84780",
   "metadata": {},
   "outputs": [],
   "source": [
    "import csv\n",
    "import pandas as pd\n",
    "import numpy as np\n",
    "from matplotlib import pyplot as plt\n",
    "from sklearn.model_selection import train_test_split\n",
    "from sklearn.preprocessing import StandardScaler\n",
    "from sklearn.neighbors import KNeighborsClassifier\n",
    "from sklearn.metrics import accuracy_score, classification_report"
   ]
  },
  {
   "cell_type": "code",
   "execution_count": 6,
   "id": "4694d465",
   "metadata": {},
   "outputs": [
    {
     "data": {
      "text/plain": [
       "AnimalID                         object\n",
       "ID                               object\n",
       "Breed                            object\n",
       "Color                            object\n",
       "Gender                           object\n",
       "Name                             object\n",
       "Intake-DateTime          datetime64[ns]\n",
       "Intake-Type                      object\n",
       "Intake-Condition                 object\n",
       "Intake-Age(days)                  int64\n",
       "Date-Of-Birth                    object\n",
       "Outcome-DateTime         datetime64[ns]\n",
       "Outcome-Type                     object\n",
       "Outcome-Subtype                  object\n",
       "Outcome-Age(days)                 int64\n",
       "Age                              object\n",
       "IsAdopted                          bool\n",
       "Category                         object\n",
       "Intelligence-Ranking              int64\n",
       "Intelligence-Category            object\n",
       "Size-Category                    object\n",
       "Longevity                       float64\n",
       "Total-Cost($)                     int64\n",
       "Purchase-Cost($)                  int64\n",
       "Food-Cost($)                      int64\n",
       "Cost-Category                    object\n",
       "dtype: object"
      ]
     },
     "execution_count": 6,
     "metadata": {},
     "output_type": "execute_result"
    }
   ],
   "source": [
    "data = pd.read_csv('data.csv', parse_dates=['Intake-DateTime', 'Outcome-DateTime'])\n",
    "data.dtypes"
   ]
  },
  {
   "cell_type": "code",
   "execution_count": 7,
   "id": "34820af2",
   "metadata": {},
   "outputs": [],
   "source": [
    "X = data.drop('IsAdopted', axis=1)\n",
    "y = data['IsAdopted']\n",
    "\n",
    "# Perform one-hot encoding for categorical variables\n",
    "X_encoded = pd.get_dummies(X)\n",
    "\n",
    "# Split the data into training and testing sets\n",
    "X_train, X_test, y_train, y_test = train_test_split(X_encoded, y, test_size=0.2, random_state=42)"
   ]
  },
  {
   "cell_type": "code",
   "execution_count": 9,
   "id": "9c3e16b6",
   "metadata": {},
   "outputs": [],
   "source": [
    "# Identify numerical columns\n",
    "numerical_columns = X_train.select_dtypes(include=['int64', 'float64']).columns\n",
    "\n",
    "# Create a subset of the training and testing data with only numerical columns\n",
    "X_train_numeric = X_train[numerical_columns]\n",
    "X_test_numeric = X_test[numerical_columns]\n",
    "\n",
    "# kNN is sensitive to the scale of features, so it's a good idea to normalize the data\n",
    "scaler = StandardScaler()\n",
    "X_train_scaled = scaler.fit_transform(X_train_numeric)\n",
    "X_test_scaled = scaler.transform(X_test_numeric)"
   ]
  },
  {
   "cell_type": "code",
   "execution_count": 10,
   "id": "f34aa8d0",
   "metadata": {},
   "outputs": [
    {
     "data": {
      "text/plain": [
       "KNeighborsClassifier(n_neighbors=3)"
      ]
     },
     "execution_count": 10,
     "metadata": {},
     "output_type": "execute_result"
    }
   ],
   "source": [
    "# Choose the number of neighbors (you can experiment with different values)\n",
    "n_neighbors = 3\n",
    "\n",
    "# Create kNN classifier\n",
    "knn = KNeighborsClassifier(n_neighbors=n_neighbors)\n",
    "\n",
    "# Train the model\n",
    "knn.fit(X_train_scaled, y_train)"
   ]
  },
  {
   "cell_type": "code",
   "execution_count": 11,
   "id": "79fcd087",
   "metadata": {},
   "outputs": [],
   "source": [
    "y_pred = knn.predict(X_test_scaled)\n"
   ]
  },
  {
   "cell_type": "code",
   "execution_count": 12,
   "id": "2319245c",
   "metadata": {},
   "outputs": [
    {
     "name": "stdout",
     "output_type": "stream",
     "text": [
      "Accuracy: 0.6462703962703963\n",
      "Classification Report:\n",
      "               precision    recall  f1-score   support\n",
      "\n",
      "       False       0.66      0.64      0.65      8742\n",
      "        True       0.63      0.66      0.65      8418\n",
      "\n",
      "    accuracy                           0.65     17160\n",
      "   macro avg       0.65      0.65      0.65     17160\n",
      "weighted avg       0.65      0.65      0.65     17160\n",
      "\n"
     ]
    }
   ],
   "source": [
    "accuracy = accuracy_score(y_test, y_pred)\n",
    "report = classification_report(y_test, y_pred)\n",
    "\n",
    "print(f\"Accuracy: {accuracy}\")\n",
    "print(\"Classification Report:\\n\", report)"
   ]
  },
  {
   "cell_type": "code",
   "execution_count": null,
   "id": "b1e2468f",
   "metadata": {},
   "outputs": [],
   "source": []
  },
  {
   "cell_type": "code",
   "execution_count": null,
   "id": "4c223687",
   "metadata": {},
   "outputs": [],
   "source": []
  }
 ],
 "metadata": {
  "kernelspec": {
   "display_name": "Python 3 (ipykernel)",
   "language": "python",
   "name": "python3"
  },
  "language_info": {
   "codemirror_mode": {
    "name": "ipython",
    "version": 3
   },
   "file_extension": ".py",
   "mimetype": "text/x-python",
   "name": "python",
   "nbconvert_exporter": "python",
   "pygments_lexer": "ipython3",
   "version": "3.9.12"
  }
 },
 "nbformat": 4,
 "nbformat_minor": 5
}
