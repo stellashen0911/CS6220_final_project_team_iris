{
 "cells": [
  {
   "cell_type": "code",
   "execution_count": 1,
   "id": "1ff84780",
   "metadata": {},
   "outputs": [
    {
     "name": "stderr",
     "output_type": "stream",
     "text": [
      "/Users/shenstella/opt/anaconda3/lib/python3.9/site-packages/scipy/__init__.py:146: UserWarning: A NumPy version >=1.16.5 and <1.23.0 is required for this version of SciPy (detected version 1.26.0\n",
      "  warnings.warn(f\"A NumPy version >={np_minversion} and <{np_maxversion}\"\n"
     ]
    }
   ],
   "source": [
    "import csv\n",
    "import pandas as pd\n",
    "import numpy as np\n",
    "from matplotlib import pyplot as plt\n",
    "from sklearn.model_selection import train_test_split\n",
    "from sklearn.preprocessing import StandardScaler\n",
    "from sklearn.neighbors import KNeighborsClassifier\n",
    "from sklearn.metrics import accuracy_score, classification_report\n",
    "from matplotlib.colors import ListedColormap\n",
    "from sklearn import neighbors, datasets"
   ]
  },
  {
   "cell_type": "markdown",
   "id": "60e6489d",
   "metadata": {},
   "source": [
    "### Load the data"
   ]
  },
  {
   "cell_type": "code",
   "execution_count": 2,
   "id": "4694d465",
   "metadata": {},
   "outputs": [
    {
     "data": {
      "text/plain": [
       "AnimalID                         object\n",
       "ID                               object\n",
       "Breed                            object\n",
       "Color                            object\n",
       "Gender                           object\n",
       "Name                             object\n",
       "Intake-DateTime          datetime64[ns]\n",
       "Intake-Type                      object\n",
       "Intake-Condition                 object\n",
       "Intake-Age(days)                  int64\n",
       "Date-Of-Birth                    object\n",
       "Outcome-DateTime         datetime64[ns]\n",
       "Outcome-Type                     object\n",
       "Outcome-Subtype                  object\n",
       "Outcome-Age(days)                 int64\n",
       "Age                              object\n",
       "IsAdopted                          bool\n",
       "Category                         object\n",
       "Intelligence-Ranking              int64\n",
       "Intelligence-Category            object\n",
       "Size-Category                    object\n",
       "Longevity                       float64\n",
       "Total-Cost($)                     int64\n",
       "Purchase-Cost($)                  int64\n",
       "Food-Cost($)                      int64\n",
       "Cost-Category                    object\n",
       "dtype: object"
      ]
     },
     "execution_count": 2,
     "metadata": {},
     "output_type": "execute_result"
    }
   ],
   "source": [
    "data = pd.read_csv('data.csv', parse_dates=['Intake-DateTime', 'Outcome-DateTime'])\n",
    "data.dtypes"
   ]
  },
  {
   "cell_type": "markdown",
   "id": "e1081096",
   "metadata": {},
   "source": [
    "### Prepare the data, replace object data with numerical values"
   ]
  },
  {
   "cell_type": "code",
   "execution_count": 3,
   "id": "34820af2",
   "metadata": {},
   "outputs": [
    {
     "data": {
      "text/html": [
       "<div>\n",
       "<style scoped>\n",
       "    .dataframe tbody tr th:only-of-type {\n",
       "        vertical-align: middle;\n",
       "    }\n",
       "\n",
       "    .dataframe tbody tr th {\n",
       "        vertical-align: top;\n",
       "    }\n",
       "\n",
       "    .dataframe thead th {\n",
       "        text-align: right;\n",
       "    }\n",
       "</style>\n",
       "<table border=\"1\" class=\"dataframe\">\n",
       "  <thead>\n",
       "    <tr style=\"text-align: right;\">\n",
       "      <th></th>\n",
       "      <th>Gender</th>\n",
       "      <th>Age</th>\n",
       "      <th>Intelligence-Ranking</th>\n",
       "      <th>Size-Category</th>\n",
       "      <th>Longevity</th>\n",
       "      <th>Total-Cost($)</th>\n",
       "      <th>Purchase-Cost($)</th>\n",
       "      <th>Food-Cost($)</th>\n",
       "    </tr>\n",
       "  </thead>\n",
       "  <tbody>\n",
       "    <tr>\n",
       "      <th>0</th>\n",
       "      <td>Male</td>\n",
       "      <td>Adult</td>\n",
       "      <td>27</td>\n",
       "      <td>Large</td>\n",
       "      <td>9.00</td>\n",
       "      <td>18062</td>\n",
       "      <td>1725</td>\n",
       "      <td>5679</td>\n",
       "    </tr>\n",
       "    <tr>\n",
       "      <th>1</th>\n",
       "      <td>Male</td>\n",
       "      <td>Senior</td>\n",
       "      <td>27</td>\n",
       "      <td>Large</td>\n",
       "      <td>9.00</td>\n",
       "      <td>18062</td>\n",
       "      <td>1725</td>\n",
       "      <td>5679</td>\n",
       "    </tr>\n",
       "    <tr>\n",
       "      <th>2</th>\n",
       "      <td>Male</td>\n",
       "      <td>Senior</td>\n",
       "      <td>27</td>\n",
       "      <td>Large</td>\n",
       "      <td>9.00</td>\n",
       "      <td>18062</td>\n",
       "      <td>1725</td>\n",
       "      <td>5679</td>\n",
       "    </tr>\n",
       "    <tr>\n",
       "      <th>3</th>\n",
       "      <td>Male</td>\n",
       "      <td>Senior</td>\n",
       "      <td>6</td>\n",
       "      <td>Small</td>\n",
       "      <td>12.53</td>\n",
       "      <td>17469</td>\n",
       "      <td>465</td>\n",
       "      <td>3698</td>\n",
       "    </tr>\n",
       "    <tr>\n",
       "      <th>4</th>\n",
       "      <td>Female</td>\n",
       "      <td>Senior</td>\n",
       "      <td>7</td>\n",
       "      <td>Medium</td>\n",
       "      <td>12.04</td>\n",
       "      <td>18422</td>\n",
       "      <td>810</td>\n",
       "      <td>4819</td>\n",
       "    </tr>\n",
       "    <tr>\n",
       "      <th>...</th>\n",
       "      <td>...</td>\n",
       "      <td>...</td>\n",
       "      <td>...</td>\n",
       "      <td>...</td>\n",
       "      <td>...</td>\n",
       "      <td>...</td>\n",
       "      <td>...</td>\n",
       "      <td>...</td>\n",
       "    </tr>\n",
       "    <tr>\n",
       "      <th>85791</th>\n",
       "      <td>Female</td>\n",
       "      <td>Senior</td>\n",
       "      <td>67</td>\n",
       "      <td>Small</td>\n",
       "      <td>16.50</td>\n",
       "      <td>22640</td>\n",
       "      <td>588</td>\n",
       "      <td>4594</td>\n",
       "    </tr>\n",
       "    <tr>\n",
       "      <th>85792</th>\n",
       "      <td>Female</td>\n",
       "      <td>Senior</td>\n",
       "      <td>67</td>\n",
       "      <td>Small</td>\n",
       "      <td>16.50</td>\n",
       "      <td>22640</td>\n",
       "      <td>588</td>\n",
       "      <td>4594</td>\n",
       "    </tr>\n",
       "    <tr>\n",
       "      <th>85793</th>\n",
       "      <td>Female</td>\n",
       "      <td>Senior</td>\n",
       "      <td>59</td>\n",
       "      <td>Small</td>\n",
       "      <td>12.25</td>\n",
       "      <td>16073</td>\n",
       "      <td>650</td>\n",
       "      <td>2410</td>\n",
       "    </tr>\n",
       "    <tr>\n",
       "      <th>85794</th>\n",
       "      <td>Female</td>\n",
       "      <td>Baby</td>\n",
       "      <td>7</td>\n",
       "      <td>Medium</td>\n",
       "      <td>12.04</td>\n",
       "      <td>18422</td>\n",
       "      <td>810</td>\n",
       "      <td>4819</td>\n",
       "    </tr>\n",
       "    <tr>\n",
       "      <th>85795</th>\n",
       "      <td>Male</td>\n",
       "      <td>Baby</td>\n",
       "      <td>3</td>\n",
       "      <td>Large</td>\n",
       "      <td>9.73</td>\n",
       "      <td>15091</td>\n",
       "      <td>820</td>\n",
       "      <td>3895</td>\n",
       "    </tr>\n",
       "  </tbody>\n",
       "</table>\n",
       "<p>85796 rows × 8 columns</p>\n",
       "</div>"
      ],
      "text/plain": [
       "       Gender     Age  Intelligence-Ranking Size-Category  Longevity  \\\n",
       "0        Male   Adult                    27         Large       9.00   \n",
       "1        Male  Senior                    27         Large       9.00   \n",
       "2        Male  Senior                    27         Large       9.00   \n",
       "3        Male  Senior                     6         Small      12.53   \n",
       "4      Female  Senior                     7        Medium      12.04   \n",
       "...       ...     ...                   ...           ...        ...   \n",
       "85791  Female  Senior                    67         Small      16.50   \n",
       "85792  Female  Senior                    67         Small      16.50   \n",
       "85793  Female  Senior                    59         Small      12.25   \n",
       "85794  Female    Baby                     7        Medium      12.04   \n",
       "85795    Male    Baby                     3         Large       9.73   \n",
       "\n",
       "       Total-Cost($)  Purchase-Cost($)  Food-Cost($)  \n",
       "0              18062              1725          5679  \n",
       "1              18062              1725          5679  \n",
       "2              18062              1725          5679  \n",
       "3              17469               465          3698  \n",
       "4              18422               810          4819  \n",
       "...              ...               ...           ...  \n",
       "85791          22640               588          4594  \n",
       "85792          22640               588          4594  \n",
       "85793          16073               650          2410  \n",
       "85794          18422               810          4819  \n",
       "85795          15091               820          3895  \n",
       "\n",
       "[85796 rows x 8 columns]"
      ]
     },
     "execution_count": 3,
     "metadata": {},
     "output_type": "execute_result"
    }
   ],
   "source": [
    "X = data.drop('IsAdopted', axis=1)\n",
    "y = data['IsAdopted']\n",
    "\n",
    "X = data.iloc[:,:].drop(columns=[\"IsAdopted\", \"AnimalID\", \"ID\", \"Intake-DateTime\",\"Color\", \"Breed\",\"Outcome-DateTime\", \"Intelligence-Category\", \"Date-Of-Birth\",\"Name\", \"Intake-Condition\", \"Category\",\"Outcome-Subtype\", \"Intake-Age(days)\", \"Cost-Category\", \"Outcome-Type\", \"Intake-Type\", \"Outcome-Age(days)\"])\n",
    "X\n"
   ]
  },
  {
   "cell_type": "code",
   "execution_count": 4,
   "id": "4409f452",
   "metadata": {},
   "outputs": [
    {
     "data": {
      "text/html": [
       "<div>\n",
       "<style scoped>\n",
       "    .dataframe tbody tr th:only-of-type {\n",
       "        vertical-align: middle;\n",
       "    }\n",
       "\n",
       "    .dataframe tbody tr th {\n",
       "        vertical-align: top;\n",
       "    }\n",
       "\n",
       "    .dataframe thead th {\n",
       "        text-align: right;\n",
       "    }\n",
       "</style>\n",
       "<table border=\"1\" class=\"dataframe\">\n",
       "  <thead>\n",
       "    <tr style=\"text-align: right;\">\n",
       "      <th></th>\n",
       "      <th>Gender</th>\n",
       "      <th>Age</th>\n",
       "      <th>Intelligence-Ranking</th>\n",
       "      <th>Size-Category</th>\n",
       "      <th>Longevity</th>\n",
       "      <th>Total-Cost($)</th>\n",
       "      <th>Purchase-Cost($)</th>\n",
       "      <th>Food-Cost($)</th>\n",
       "    </tr>\n",
       "  </thead>\n",
       "  <tbody>\n",
       "    <tr>\n",
       "      <th>0</th>\n",
       "      <td>1</td>\n",
       "      <td>3</td>\n",
       "      <td>27</td>\n",
       "      <td>3</td>\n",
       "      <td>9.00</td>\n",
       "      <td>18062</td>\n",
       "      <td>1725</td>\n",
       "      <td>5679</td>\n",
       "    </tr>\n",
       "    <tr>\n",
       "      <th>1</th>\n",
       "      <td>1</td>\n",
       "      <td>4</td>\n",
       "      <td>27</td>\n",
       "      <td>3</td>\n",
       "      <td>9.00</td>\n",
       "      <td>18062</td>\n",
       "      <td>1725</td>\n",
       "      <td>5679</td>\n",
       "    </tr>\n",
       "    <tr>\n",
       "      <th>2</th>\n",
       "      <td>1</td>\n",
       "      <td>4</td>\n",
       "      <td>27</td>\n",
       "      <td>3</td>\n",
       "      <td>9.00</td>\n",
       "      <td>18062</td>\n",
       "      <td>1725</td>\n",
       "      <td>5679</td>\n",
       "    </tr>\n",
       "    <tr>\n",
       "      <th>3</th>\n",
       "      <td>1</td>\n",
       "      <td>4</td>\n",
       "      <td>6</td>\n",
       "      <td>1</td>\n",
       "      <td>12.53</td>\n",
       "      <td>17469</td>\n",
       "      <td>465</td>\n",
       "      <td>3698</td>\n",
       "    </tr>\n",
       "    <tr>\n",
       "      <th>4</th>\n",
       "      <td>0</td>\n",
       "      <td>4</td>\n",
       "      <td>7</td>\n",
       "      <td>2</td>\n",
       "      <td>12.04</td>\n",
       "      <td>18422</td>\n",
       "      <td>810</td>\n",
       "      <td>4819</td>\n",
       "    </tr>\n",
       "    <tr>\n",
       "      <th>...</th>\n",
       "      <td>...</td>\n",
       "      <td>...</td>\n",
       "      <td>...</td>\n",
       "      <td>...</td>\n",
       "      <td>...</td>\n",
       "      <td>...</td>\n",
       "      <td>...</td>\n",
       "      <td>...</td>\n",
       "    </tr>\n",
       "    <tr>\n",
       "      <th>85791</th>\n",
       "      <td>0</td>\n",
       "      <td>4</td>\n",
       "      <td>67</td>\n",
       "      <td>1</td>\n",
       "      <td>16.50</td>\n",
       "      <td>22640</td>\n",
       "      <td>588</td>\n",
       "      <td>4594</td>\n",
       "    </tr>\n",
       "    <tr>\n",
       "      <th>85792</th>\n",
       "      <td>0</td>\n",
       "      <td>4</td>\n",
       "      <td>67</td>\n",
       "      <td>1</td>\n",
       "      <td>16.50</td>\n",
       "      <td>22640</td>\n",
       "      <td>588</td>\n",
       "      <td>4594</td>\n",
       "    </tr>\n",
       "    <tr>\n",
       "      <th>85793</th>\n",
       "      <td>0</td>\n",
       "      <td>4</td>\n",
       "      <td>59</td>\n",
       "      <td>1</td>\n",
       "      <td>12.25</td>\n",
       "      <td>16073</td>\n",
       "      <td>650</td>\n",
       "      <td>2410</td>\n",
       "    </tr>\n",
       "    <tr>\n",
       "      <th>85794</th>\n",
       "      <td>0</td>\n",
       "      <td>1</td>\n",
       "      <td>7</td>\n",
       "      <td>2</td>\n",
       "      <td>12.04</td>\n",
       "      <td>18422</td>\n",
       "      <td>810</td>\n",
       "      <td>4819</td>\n",
       "    </tr>\n",
       "    <tr>\n",
       "      <th>85795</th>\n",
       "      <td>1</td>\n",
       "      <td>1</td>\n",
       "      <td>3</td>\n",
       "      <td>3</td>\n",
       "      <td>9.73</td>\n",
       "      <td>15091</td>\n",
       "      <td>820</td>\n",
       "      <td>3895</td>\n",
       "    </tr>\n",
       "  </tbody>\n",
       "</table>\n",
       "<p>85796 rows × 8 columns</p>\n",
       "</div>"
      ],
      "text/plain": [
       "       Gender  Age  Intelligence-Ranking  Size-Category  Longevity  \\\n",
       "0           1    3                    27              3       9.00   \n",
       "1           1    4                    27              3       9.00   \n",
       "2           1    4                    27              3       9.00   \n",
       "3           1    4                     6              1      12.53   \n",
       "4           0    4                     7              2      12.04   \n",
       "...       ...  ...                   ...            ...        ...   \n",
       "85791       0    4                    67              1      16.50   \n",
       "85792       0    4                    67              1      16.50   \n",
       "85793       0    4                    59              1      12.25   \n",
       "85794       0    1                     7              2      12.04   \n",
       "85795       1    1                     3              3       9.73   \n",
       "\n",
       "       Total-Cost($)  Purchase-Cost($)  Food-Cost($)  \n",
       "0              18062              1725          5679  \n",
       "1              18062              1725          5679  \n",
       "2              18062              1725          5679  \n",
       "3              17469               465          3698  \n",
       "4              18422               810          4819  \n",
       "...              ...               ...           ...  \n",
       "85791          22640               588          4594  \n",
       "85792          22640               588          4594  \n",
       "85793          16073               650          2410  \n",
       "85794          18422               810          4819  \n",
       "85795          15091               820          3895  \n",
       "\n",
       "[85796 rows x 8 columns]"
      ]
     },
     "execution_count": 4,
     "metadata": {},
     "output_type": "execute_result"
    }
   ],
   "source": [
    "# Here we replace all the descriptive lable into numerical lable\n",
    "gender = X.groupby('Gender').size()\n",
    "X['Gender'].replace(['Female','Male'], [0,1], inplace=True)\n",
    "SizeCategory = X.groupby('Size-Category').size()\n",
    "X['Size-Category'].replace(['Large','Medium','Small'], [3,2,1], inplace=True)\n",
    "Age = X.groupby('Age').size()\n",
    "X['Age'].replace(['Baby','Young','Adult', 'Senior'], [1,2,3,4], inplace=True)\n",
    "X\n"
   ]
  },
  {
   "cell_type": "code",
   "execution_count": 5,
   "id": "6fae664d",
   "metadata": {},
   "outputs": [],
   "source": [
    "# Split the data into training and testing sets\n",
    "X_train, X_test, y_train, y_test = train_test_split(X, y, test_size=0.2, random_state=42)\n"
   ]
  },
  {
   "cell_type": "code",
   "execution_count": 6,
   "id": "9c3e16b6",
   "metadata": {},
   "outputs": [],
   "source": [
    "# kNN is sensitive to the scale of features, so it's a good idea to normalize the data\n",
    "scaler = StandardScaler()\n",
    "X_train_scaled = scaler.fit_transform(X_train)\n",
    "X_test_scaled = scaler.transform(X_test)\n"
   ]
  },
  {
   "cell_type": "code",
   "execution_count": 7,
   "id": "f34aa8d0",
   "metadata": {},
   "outputs": [],
   "source": [
    "# Choose the number of neighbors (you can experiment with different values)\n",
    "n_neighbors = 3\n",
    "\n",
    "# Create kNN classifier\n",
    "knn = KNeighborsClassifier(n_neighbors=n_neighbors)\n",
    "\n",
    "# Train the model\n",
    "knn.fit(X_train_scaled, y_train)\n",
    "\n",
    "y_pred = knn.predict(X_test_scaled)\n"
   ]
  },
  {
   "cell_type": "code",
   "execution_count": 8,
   "id": "2319245c",
   "metadata": {},
   "outputs": [
    {
     "name": "stdout",
     "output_type": "stream",
     "text": [
      "Accuracy: 0.5501748251748252\n",
      "Classification Report:\n",
      "               precision    recall  f1-score   support\n",
      "\n",
      "       False       0.56      0.54      0.55      8742\n",
      "        True       0.54      0.56      0.55      8418\n",
      "\n",
      "    accuracy                           0.55     17160\n",
      "   macro avg       0.55      0.55      0.55     17160\n",
      "weighted avg       0.55      0.55      0.55     17160\n",
      "\n"
     ]
    }
   ],
   "source": [
    "accuracy = accuracy_score(y_test, y_pred)\n",
    "report = classification_report(y_test, y_pred)\n",
    "\n",
    "print(f\"Accuracy: {accuracy}\")\n",
    "print(\"Classification Report:\\n\", report)\n"
   ]
  },
  {
   "cell_type": "markdown",
   "id": "f7f83ad6",
   "metadata": {},
   "source": [
    "### Using Cross Validation to Get the Best Value of k"
   ]
  },
  {
   "cell_type": "code",
   "execution_count": 9,
   "id": "4c223687",
   "metadata": {},
   "outputs": [],
   "source": [
    "from sklearn.model_selection import cross_val_score\n",
    "k_values = [i for i in range (1,31)]\n",
    "scores = []\n",
    "\n",
    "X = scaler.fit_transform(X)\n",
    "\n",
    "for k in k_values:\n",
    "    knn = KNeighborsClassifier(n_neighbors=k)\n",
    "    score = cross_val_score(knn, X, y, cv=5)\n",
    "    scores.append(np.mean(score))\n",
    "    "
   ]
  },
  {
   "cell_type": "markdown",
   "id": "1fd02018",
   "metadata": {},
   "source": [
    "### We can plot the results with the following code"
   ]
  },
  {
   "cell_type": "code",
   "execution_count": 10,
   "id": "f7f2b3ea",
   "metadata": {},
   "outputs": [
    {
     "data": {
      "text/plain": [
       "Text(0, 0.5, 'Accuracy Score')"
      ]
     },
     "execution_count": 10,
     "metadata": {},
     "output_type": "execute_result"
    },
    {
     "data": {
      "image/png": "[encoded data removed]",
      "text/plain": [
       "<Figure size 432x288 with 1 Axes>"
      ]
     },
     "metadata": {
      "needs_background": "light"
     },
     "output_type": "display_data"
    }
   ],
   "source": [
    "import seaborn as sns\n",
    "sns.lineplot(x = k_values, y = scores, marker = 'o')\n",
    "plt.xlabel(\"K Values\")\n",
    "plt.ylabel(\"Accuracy Score\")\n"
   ]
  },
  {
   "cell_type": "markdown",
   "id": "657f80b2",
   "metadata": {},
   "source": [
    "### Since we know know what could be the best K value, we update the model with the best K"
   ]
  },
  {
   "cell_type": "code",
   "execution_count": 11,
   "id": "14d4d622",
   "metadata": {},
   "outputs": [
    {
     "data": {
      "text/plain": [
       "KNeighborsClassifier(n_neighbors=29)"
      ]
     },
     "execution_count": 11,
     "metadata": {},
     "output_type": "execute_result"
    }
   ],
   "source": [
    "best_index = np.argmax(scores)\n",
    "best_k = k_values[best_index]\n",
    "\n",
    "knn = KNeighborsClassifier(n_neighbors=best_k)\n",
    "knn.fit(X_train_scaled, y_train)\n"
   ]
  },
  {
   "cell_type": "code",
   "execution_count": 12,
   "id": "b97d7e95",
   "metadata": {},
   "outputs": [
    {
     "name": "stdout",
     "output_type": "stream",
     "text": [
      "Accuracy: 0.5979020979020979\n",
      "Classification Report:\n",
      "               precision    recall  f1-score   support\n",
      "\n",
      "       False       0.61      0.59      0.60      8742\n",
      "        True       0.59      0.61      0.60      8418\n",
      "\n",
      "    accuracy                           0.60     17160\n",
      "   macro avg       0.60      0.60      0.60     17160\n",
      "weighted avg       0.60      0.60      0.60     17160\n",
      "\n"
     ]
    }
   ],
   "source": [
    "y_pred = knn.predict(X_test_scaled)\n",
    "\n",
    "accuracy = accuracy_score(y_test, y_pred)\n",
    "report = classification_report(y_test, y_pred)\n",
    "\n",
    "print(f\"Accuracy: {accuracy}\")\n",
    "print(\"Classification Report:\\n\", report)\n"
   ]
  },
  {
   "cell_type": "markdown",
   "id": "333b5dec",
   "metadata": {},
   "source": [
    "### evaluate with accuracy, precision, and recall"
   ]
  },
  {
   "cell_type": "code",
   "execution_count": 13,
   "id": "ed530eb6",
   "metadata": {},
   "outputs": [
    {
     "name": "stdout",
     "output_type": "stream",
     "text": [
      "Accuracy: 0.5979020979020979\n",
      "Precision: 0.5873417721518988\n",
      "Recall: 0.6063197909242101\n"
     ]
    }
   ],
   "source": [
    "from sklearn.metrics import precision_score, recall_score\n",
    "\n",
    "accuracy = accuracy_score(y_test, y_pred)\n",
    "precision = precision_score(y_test, y_pred)\n",
    "recall = recall_score(y_test, y_pred)\n",
    "\n",
    "print(\"Accuracy:\", accuracy)\n",
    "print(\"Precision:\", precision)\n",
    "print(\"Recall:\", recall)\n"
   ]
  },
  {
   "cell_type": "code",
   "execution_count": 14,
   "id": "54f6dffc",
   "metadata": {},
   "outputs": [],
   "source": [
    "y_pred = knn.predict(X_test_scaled)\n"
   ]
  },
  {
   "cell_type": "markdown",
   "id": "9a88be0a",
   "metadata": {},
   "source": [
    "### Use each feature alone - to fit a KNN model on the training set."
   ]
  },
  {
   "cell_type": "code",
   "execution_count": 17,
   "id": "399d5e4f",
   "metadata": {},
   "outputs": [
    {
     "name": "stdout",
     "output_type": "stream",
     "text": [
      "Evaluation for the feature:  Gender\n",
      "Accuracy: 0.47884615384615387\n",
      "Precision: 0.47140834331772136\n",
      "Recall: 0.5141363744357329\n",
      "Evaluation for the feature:  Age\n",
      "Accuracy: 0.5372377622377622\n",
      "Precision: 0.5156137479541735\n",
      "Recall: 0.9356141601330482\n",
      "Evaluation for the feature:  Intelligence-Ranking\n",
      "Accuracy: 0.5288461538461539\n",
      "Precision: 0.5202974521516518\n",
      "Recall: 0.5070087906866239\n",
      "Evaluation for the feature:  Size-Category\n",
      "Accuracy: 0.5238927738927739\n",
      "Precision: 0.5378279438682123\n",
      "Recall: 0.20943216916132099\n",
      "Evaluation for the feature:  Longevity\n",
      "Accuracy: 0.5286130536130537\n",
      "Precision: 0.5237065859633953\n",
      "Recall: 0.43169398907103823\n",
      "Evaluation for the feature:  Total-Cost($)\n",
      "Accuracy: 0.5336247086247087\n",
      "Precision: 0.5287038317886291\n",
      "Recall: 0.4540270848182466\n",
      "Evaluation for the feature:  Purchase-Cost($)\n",
      "Accuracy: 0.5228438228438228\n",
      "Precision: 0.5114564654313608\n",
      "Recall: 0.6098835827987645\n",
      "Evaluation for the feature:  Food-Cost($)\n",
      "Accuracy: 0.5308857808857809\n",
      "Precision: 0.5313886045718185\n",
      "Recall: 0.37004038964124497\n"
     ]
    },
    {
     "data": {
      "image/png": "[encoded data removed]",
      "text/plain": [
       "<Figure size 1080x720 with 8 Axes>"
      ]
     },
     "metadata": {
      "needs_background": "light"
     },
     "output_type": "display_data"
    }
   ],
   "source": [
    "import matplotlib.pyplot as plt\n",
    "from sklearn.model_selection import train_test_split\n",
    "from sklearn.neighbors import KNeighborsClassifier\n",
    "\n",
    "# Feature names\n",
    "names = [\"Gender\", \"Age\", \"Intelligence-Ranking\", \"Size-Category\", \"Longevity\", \"Total-Cost($)\", \"Purchase-Cost($)\", \"Food-Cost($)\"]\n",
    "\n",
    "plt.figure(figsize=(15, 10))\n",
    "\n",
    "# Iterate over each feature\n",
    "for i in range(len(names)):\n",
    "    plt.subplot(3, 3, i + 1)\n",
    "    \n",
    "    # Extract the current feature\n",
    "    x = X[:, i].reshape(-1, 1)\n",
    "    \n",
    "    # Split the data\n",
    "    x_train, x_test, y_train, y_test = train_test_split(x, y, test_size=0.2, random_state=42)\n",
    "    \n",
    "    # Create KNN classifier\n",
    "    knn = KNeighborsClassifier(n_neighbors=3)\n",
    "    \n",
    "    # Train the model\n",
    "    knn.fit(x_train, y_train)\n",
    "    \n",
    "    y_pred = knn.predict(x_test)\n",
    "    \n",
    "    accuracy = accuracy_score(y_test, y_pred)\n",
    "    precision = precision_score(y_test, y_pred)\n",
    "    recall = recall_score(y_test, y_pred)\n",
    "    \n",
    "    print(\"Evaluation for the feature: \", names[i])\n",
    "    print(\"Accuracy:\", accuracy)\n",
    "    print(\"Precision:\", precision)\n",
    "    print(\"Recall:\", recall)\n",
    "    \n",
    "    # Visualize decision boundary\n",
    "    plt.scatter(x_test, y_test, label='Actual')\n",
    "    plt.scatter(x_test, knn.predict(x_test), label='Predicted', marker='o', alpha=0.5)\n",
    "    \n",
    "    plt.title(f\"Classification Relationship: {names[i]}\")\n",
    "    plt.xlabel(names[i])\n",
    "    plt.ylabel('IsAdopted')\n",
    "    plt.legend()\n",
    "\n",
    "plt.tight_layout()\n",
    "plt.show()\n"
   ]
  },
  {
   "cell_type": "markdown",
   "id": "d85b6f57",
   "metadata": {},
   "source": [
    "### Visualization"
   ]
  },
  {
   "cell_type": "code",
   "execution_count": 18,
   "id": "49644b4c",
   "metadata": {},
   "outputs": [
    {
     "data": {
      "image/png": "[encoded data removed]",
      "text/plain": [
       "<Figure size 432x288 with 1 Axes>"
      ]
     },
     "metadata": {
      "needs_background": "light"
     },
     "output_type": "display_data"
    }
   ],
   "source": [
    "import matplotlib.pyplot as plt\n",
    "from sklearn.decomposition import PCA\n",
    "\n",
    "# Apply PCA to reduce the data to 2 dimensions (you can adjust this based on the number of features)\n",
    "pca = PCA(n_components=2)\n",
    "X_train_pca = pca.fit_transform(X_train_scaled)\n",
    "\n",
    "# Plot the data points in 2D space with color-coded classes\n",
    "plt.scatter(X_train_pca[:, 0], X_train_pca[:, 1], c=y_train, cmap='viridis')\n",
    "plt.title('PCA Visualization of Training Data')\n",
    "plt.xlabel('Principal Component 1')\n",
    "plt.ylabel('Principal Component 2')\n",
    "plt.show()"
   ]
  },
  {
   "cell_type": "markdown",
   "id": "ed658f16",
   "metadata": {},
   "source": [
    "### Conclusion & Discussion"
   ]
  },
  {
   "cell_type": "markdown",
   "id": "8c13c414",
   "metadata": {},
   "source": [
    "From the Nearest Neighbor (kNN) Classifier model, we can see:\n",
    "1. Age, Gender, Size, Total-Cost do not affect if the pet will be adopted.\n",
    "2. Total-cost, Intelligence level and Food-Cost have a high influence on adoption. \n",
    "3. The model performs much better with all features rather than any individual ones. This quite makes sense since the model is better trained for classification.\n",
    "4. The PCA plot suggests that adoption is a complex decision that can't be easily predicted by one or two features alone."
   ]
  },
  {
   "cell_type": "code",
   "execution_count": null,
   "id": "5687f198",
   "metadata": {},
   "outputs": [],
   "source": []
  }
 ],
 "metadata": {
  "kernelspec": {
   "display_name": "Python 3 (ipykernel)",
   "language": "python",
   "name": "python3"
  },
  "language_info": {
   "codemirror_mode": {
    "name": "ipython",
    "version": 3
   },
   "file_extension": ".py",
   "mimetype": "text/x-python",
   "name": "python",
   "nbconvert_exporter": "python",
   "pygments_lexer": "ipython3",
   "version": "3.9.12"
  }
 },
 "nbformat": 4,
 "nbformat_minor": 5
}
